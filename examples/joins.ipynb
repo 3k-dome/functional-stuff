{
 "cells": [
  {
   "cell_type": "code",
   "execution_count": null,
   "metadata": {},
   "outputs": [],
   "source": [
    "from dataclasses import dataclass\n",
    "\n",
    "from functional_stuff.monads.enumerable import Enumerable\n",
    "\n",
    "\n",
    "@dataclass\n",
    "class Person:\n",
    "    name: str\n",
    "    surname: str\n",
    "    company: str\n",
    "    wage: int\n",
    "\n",
    "\n",
    "@dataclass\n",
    "class Company:\n",
    "    name: str\n",
    "    address: str\n",
    "\n",
    "\n",
    "persons = Enumerable(\n",
    "    # disclaimer: example data generated using microsoft copilot\n",
    "    [\n",
    "        Person(\"Tim\", \"Cook\", \"Apple\", 300000),\n",
    "        Person(\"Sundar\", \"Pichai\", \"Google\", 250000),\n",
    "        Person(\"Andy\", \"Jassy\", \"Amazon\", 200000),\n",
    "        Person(\"Reed\", \"Hastings\", \"Netflix\", 180000),\n",
    "        Person(\"John\", \"Doe\", \"Unknown\", 50000),\n",
    "        Person(\"Alice\", \"Wonder\", \"Google\", 230000),\n",
    "        Person(\"Bob\", \"Marley\", \"Unknown\", 40000),\n",
    "    ],\n",
    ")\n",
    "\n",
    "companies = Enumerable(\n",
    "    # disclaimer: example data generated using microsoft copilot\n",
    "    [\n",
    "        Company(\"Apple\", \"One Apple Park Way, Cupertino, CA\"),\n",
    "        Company(\"Google\", \"1600 Amphitheatre Parkway, Mountain View, CA\"),\n",
    "        Company(\"Amazon\", \"410 Terry Ave N, Seattle, WA\"),\n",
    "        Company(\"Netflix\", \"100 Winchester Circle, Los Gatos, CA\"),\n",
    "        Company(\"Microsoft\", \"1 Microsoft Way, Redmond, WA\"),\n",
    "    ],\n",
    ")\n"
   ]
  },
  {
   "cell_type": "code",
   "execution_count": 38,
   "metadata": {},
   "outputs": [
    {
     "data": {
      "text/plain": [
       "[('Tim', 'Apple'),\n",
       " ('Sundar', 'Google'),\n",
       " ('Andy', 'Amazon'),\n",
       " ('Reed', 'Netflix'),\n",
       " ('Alice', 'Google')]"
      ]
     },
     "execution_count": 38,
     "metadata": {},
     "output_type": "execute_result"
    }
   ],
   "source": [
    "persons.inner_join(\n",
    "    companies,\n",
    "    lambda person: person.company,\n",
    "    lambda company: company.name,\n",
    "    lambda x, y: (x.name, y.name),\n",
    ").to_list()"
   ]
  },
  {
   "cell_type": "code",
   "execution_count": 39,
   "metadata": {},
   "outputs": [
    {
     "data": {
      "text/plain": [
       "[('Tim', 'Apple'),\n",
       " ('Sundar', 'Google'),\n",
       " ('Andy', 'Amazon'),\n",
       " ('Reed', 'Netflix'),\n",
       " ('John', None),\n",
       " ('Alice', 'Google'),\n",
       " ('Bob', None)]"
      ]
     },
     "execution_count": 39,
     "metadata": {},
     "output_type": "execute_result"
    }
   ],
   "source": [
    "persons.left_join(\n",
    "    companies,\n",
    "    lambda person: person.company,\n",
    "    lambda company: company.name,\n",
    "    lambda person, company: (person.name, company.name if company else None),\n",
    ").to_list()"
   ]
  },
  {
   "cell_type": "code",
   "execution_count": 40,
   "metadata": {},
   "outputs": [
    {
     "data": {
      "text/plain": [
       "[('Tim', 'Apple'),\n",
       " ('Sundar', 'Google'),\n",
       " ('Alice', 'Google'),\n",
       " ('Andy', 'Amazon'),\n",
       " ('Reed', 'Netflix'),\n",
       " (None, 'Microsoft')]"
      ]
     },
     "execution_count": 40,
     "metadata": {},
     "output_type": "execute_result"
    }
   ],
   "source": [
    "persons.right_join(\n",
    "    companies,\n",
    "    lambda person: person.company,\n",
    "    lambda company: company.name,\n",
    "    lambda person, company: (person.name if person else None, company.name),\n",
    ").to_list()"
   ]
  }
 ],
 "metadata": {
  "kernelspec": {
   "display_name": ".venv",
   "language": "python",
   "name": "python3"
  },
  "language_info": {
   "codemirror_mode": {
    "name": "ipython",
    "version": 3
   },
   "file_extension": ".py",
   "mimetype": "text/x-python",
   "name": "python",
   "nbconvert_exporter": "python",
   "pygments_lexer": "ipython3",
   "version": "3.12.9"
  }
 },
 "nbformat": 4,
 "nbformat_minor": 2
}
