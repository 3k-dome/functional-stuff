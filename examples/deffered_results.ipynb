{
 "cells": [
  {
   "cell_type": "code",
   "execution_count": 1,
   "metadata": {},
   "outputs": [],
   "source": [
    "from collections.abc import Mapping\n",
    "from typing import Any\n",
    "\n",
    "from functional_stuff.monads import Ok, Result\n",
    "\n",
    "\n",
    "async def get_capital(state: str) -> str:\n",
    "    \"\"\"Gets the capital of a given state/country.\"\"\"\n",
    "    ...\n",
    "\n",
    "\n",
    "async def get_coordinates(city: str) -> tuple[float, float]:\n",
    "    \"\"\"Gets the coordinates of a city by name.\"\"\"\n",
    "    ...\n",
    "\n",
    "\n",
    "async def get_weather_at_coordinates(coordinates: tuple[float, float]) -> Mapping[str, Any]:\n",
    "    \"\"\"Gets weather data at a given location.\"\"\"\n",
    "    ...\n"
   ]
  },
  {
   "cell_type": "code",
   "execution_count": 2,
   "metadata": {},
   "outputs": [],
   "source": [
    "# direct async bindings need to be awaited on by one\n",
    "result1: Result[str, Exception] = await Ok(\"Germany\").bind_async(get_capital)\n",
    "result2: Result[tuple[float, float], Exception] = await result1.bind_async(get_coordinates)\n",
    "result3: Result[Mapping[str, Any], Exception] = await result2.bind_async(get_weather_at_coordinates)\n",
    "\n",
    "result3.unwrap()\n",
    "\n",
    "# or using weird parentheses\n",
    "result: Result[Mapping[str, Any], Exception] = await (\n",
    "    await (await Ok(\"Germany\").bind_async(get_capital)).bind_async(get_coordinates)\n",
    ").bind_async(get_weather_at_coordinates)\n",
    "\n",
    "result.unwrap()"
   ]
  },
  {
   "cell_type": "code",
   "execution_count": 3,
   "metadata": {},
   "outputs": [],
   "source": [
    "# deferred results bindings keep track of all previous calls and can be awaited in a single step\n",
    "\n",
    "result: Result[Mapping[str, Any], Exception] = (\n",
    "    await Ok(\"Germany\").bind_deferred(get_capital).bind(get_coordinates).bind(get_weather_at_coordinates).wait()\n",
    ")\n",
    "\n",
    "result.unwrap()"
   ]
  }
 ],
 "metadata": {
  "kernelspec": {
   "display_name": ".venv",
   "language": "python",
   "name": "python3"
  },
  "language_info": {
   "codemirror_mode": {
    "name": "ipython",
    "version": 3
   },
   "file_extension": ".py",
   "mimetype": "text/x-python",
   "name": "python",
   "nbconvert_exporter": "python",
   "pygments_lexer": "ipython3",
   "version": "3.12.9"
  }
 },
 "nbformat": 4,
 "nbformat_minor": 2
}
